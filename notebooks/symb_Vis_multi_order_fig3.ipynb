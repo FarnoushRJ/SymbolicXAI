{
 "cells": [
  {
   "cell_type": "code",
   "execution_count": 1,
   "id": "249840c7-ea6c-4152-870c-7ffd067342cb",
   "metadata": {},
   "outputs": [],
   "source": [
    "%load_ext autoreload\n",
    "%autoreload 2"
   ]
  },
  {
   "cell_type": "code",
   "execution_count": 2,
   "id": "38d2f454-3652-47bf-9568-094698857d62",
   "metadata": {},
   "outputs": [
    {
     "name": "stderr",
     "output_type": "stream",
     "text": [
      "/opt/homebrew/Caskroom/miniconda/base/envs/symbxai/lib/python3.10/site-packages/tqdm/auto.py:21: TqdmWarning: IProgress not found. Please update jupyter and ipywidgets. See https://ipywidgets.readthedocs.io/en/stable/user_install.html\n",
      "  from .autonotebook import tqdm as notebook_tqdm\n"
     ]
    }
   ],
   "source": [
    "import os\n",
    "import pickle\n",
    "import time\n",
    "import sys\n",
    "# sys.path.insert(0, '/home/farnoush/symbolicXAI/')\n",
    "import numpy as np\n",
    "from symbxai.lrp.symbolic_xai import ViTSymbolicXAI\n",
    "from symbxai.model.vision_transformer import ModifiedViTForImageClassification\n",
    "import matplotlib.pylab as plt\n",
    "from PIL import Image\n",
    "from torchvision import transforms\n",
    "from tqdm import tqdm\n",
    "from torch.utils.data import DataLoader\n",
    "import transformers\n",
    "import torchvision\n",
    "import requests\n",
    "from PIL import Image\n",
    "from io import BytesIO\n",
    "# from lang_sam import LangSAM\n",
    "import pickle\n",
    "import itertools\n",
    "import torch\n",
    "from torchvision.transforms.functional import crop\n",
    "from torchvision.ops import box_iou\n",
    "import matplotlib\n",
    "import matplotlib.pyplot as plt\n",
    "import numpy as np"
   ]
  },
  {
   "cell_type": "markdown",
   "id": "3ad65923-dfa9-4d7c-ab26-2c800afdaac0",
   "metadata": {},
   "source": [
    "## Extract eyes, mouth"
   ]
  },
  {
   "cell_type": "code",
   "execution_count": 4,
   "id": "83ef8dcb-6c88-41cf-a79f-9f77b6a973f2",
   "metadata": {},
   "outputs": [],
   "source": [
    "with open('../data/eyes_segments.json', 'rb') as f:\n",
    "    eyes_file = pickle.load(f)\n",
    "\n",
    "# with open('/home/farnoush/eyebrows_segments.json', 'rb') as f:\n",
    "#     eyebrows_file = pickle.load(f)\n",
    "\n",
    "with open('../data/mouth_segments.json', 'rb') as f:\n",
    "    mouth_file = pickle.load(f)"
   ]
  },
  {
   "cell_type": "code",
   "execution_count": null,
   "id": "cd32d5ee-8a49-43cc-a70f-041b30c1b001",
   "metadata": {},
   "outputs": [],
   "source": [
    "def filter_boxes(boxes, masks, logits, part='eyes'):\n",
    "    \"\"\"\n",
    "    Filter extracted bounding boxes based on their confidence scores and some other criteria.\n",
    "    \"\"\"\n",
    "    # boxes is actaually not used here\n",
    "    num = 0\n",
    "    if part == 'eyes':\n",
    "        num = 2\n",
    "    elif part == 'mouth':\n",
    "        num = 1\n",
    "    elif part == 'eyebrows':\n",
    "        num = 2\n",
    "\n",
    "    # If the mask is covering more than half of the image, remove it.\n",
    "    for i in range(len(logits)):\n",
    "        score = masks[i].sum() / (224 * 224)\n",
    "        if score > 0.5:\n",
    "            logits[i] = 0\n",
    "\n",
    "    indices = logits.argsort()[::-1]\n",
    "    values = logits[indices]\n",
    "    indices = indices[values != 0]\n",
    "    \n",
    "    if len(logits) > num:\n",
    "        indices = indices[:num]\n",
    "\n",
    "    return indices\n",
    "\n",
    "\n",
    "def split_image_into_patches(image, patch_size):\n",
    "    \"\"\"\n",
    "    Split an image into patches of a given size.\n",
    "    Note at July 3rd 2024: The image input is actally not necessary. Also the output of this\n",
    "    function is not the patches itself, but the indices bounding boxes of each patch. And this\n",
    "    output is not necessary to be computed for each image since it's always the same.\n",
    "    \"\"\"\n",
    "    # Get the dimensions of the image.\n",
    "    image_width, image_height = image.size\n",
    "\n",
    "    # Define the patch size.\n",
    "    patch_width, patch_height = patch_size\n",
    "\n",
    "    # Initialize a list to store patch bounding boxes.\n",
    "    patch_bounding_boxes = []\n",
    "\n",
    "    # Loop through the image and extract patches.\n",
    "    for y in range(0, image_height, patch_height):\n",
    "        for x in range(0, image_width, patch_width):\n",
    "            # Define the bounding box coordinates.\n",
    "            left = x\n",
    "            upper = y\n",
    "            right = x + patch_width\n",
    "            lower = y + patch_height\n",
    "\n",
    "            # Append the bounding box to the list.\n",
    "            patch_bounding_boxes.append((left, upper, right, lower))\n",
    "\n",
    "            # Extract the patch.\n",
    "            # patch = image.crop((left, upper, right, lower)) # This is never returned\n",
    "\n",
    "    return patch_bounding_boxes\n",
    "\n",
    "def find_intersecting_patches(box, patches):\n",
    "    \"\"\"\n",
    "    Check if there is an intersection between a bounding box and a patch.\n",
    "    \"\"\"\n",
    "    # Convert box and patches to tensor\n",
    "    box_tensor = torch.tensor([box], dtype=torch.float32)\n",
    "    patches_tensor = torch.tensor(patches, dtype=torch.float32)\n",
    "\n",
    "    # Calculate IoU (Intersection over Union) between the box and patches\n",
    "    iou = box_iou(box_tensor, patches_tensor)\n",
    "\n",
    "    # Find indices where IoU is non-zero (indicating intersection)\n",
    "    intersecting_indices = torch.nonzero(iou.squeeze() > 0).squeeze().tolist()\n",
    "\n",
    "    return intersecting_indices"
   ]
  },
  {
   "cell_type": "code",
   "execution_count": null,
   "id": "9f8e3aea-8174-4f7c-a1e1-19d4775a6271",
   "metadata": {},
   "outputs": [
    {
     "name": "stderr",
     "output_type": "stream",
     "text": [
      "100%|██████████| 280/280 [00:00<00:00, 27429.76it/s]\n",
      "100%|██████████| 280/280 [00:00<00:00, 36654.34it/s]\n"
     ]
    }
   ],
   "source": [
    "# Filter those boxes that are reasonably detected.\n",
    "boxes_eyes = []\n",
    "for dic in tqdm(eyes_file):\n",
    "    indices = filter_boxes(boxes=dic['boxes_eyes'], masks=dic['mask_eyes'], logits=dic['logits_eyes'], part='eyes')\n",
    "    # if indices is not None:\n",
    "    boxes_eyes.append(np.expand_dims(dic['boxes_eyes'][indices], axis=0))\n",
    "    # else:\n",
    "    #     assert False, 'This actually never happens'\n",
    "    #     boxes_eyes.append(dic['boxes_eyes'][indices])\n",
    "\n",
    "boxes_mouth = []\n",
    "for dic in tqdm(mouth_file):\n",
    "    indices = filter_boxes(dic['boxes_mouth'], dic['mask_mouth'], dic['logits_mouth'], 'mouth')\n",
    "    # if indices is not None:\n",
    "    boxes_mouth.append(np.expand_dims(dic['boxes_mouth'][indices], axis=0))\n",
    "    # else:\n",
    "    #     assert False, 'This actually never happens'\n",
    "    #     boxes_mouth.append(dic['boxes_mouth'][indices])\n",
    "\n",
    "# boxes_eyebrows = []\n",
    "# for dic in tqdm(eyebrows_file):\n",
    "#     indices = filter_boxes(dic['boxes_eyebrows'], dic['mask_eyebrows'], dic['logits_eyebrows'], 'eyebrows')\n",
    "#     if indices is not None:\n",
    "#        boxes_eyebrows.append(np.expand_dims(dic['boxes_eyebrows'][indices], axis=0)) \n",
    "#     else:\n",
    "#         boxes_eyebrows.append(dic['boxes_eyebrows'][indices])"
   ]
  },
  {
   "cell_type": "code",
   "execution_count": null,
   "id": "a44b67d7-6011-4f81-873b-d64f9a27c866",
   "metadata": {},
   "outputs": [
    {
     "name": "stderr",
     "output_type": "stream",
     "text": [
      "100%|██████████| 280/280 [00:00<00:00, 1284.60it/s]\n"
     ]
    }
   ],
   "source": [
    "# import re\n",
    "# from symbxai.dataset.utils import load_fer_dataset\n",
    "\n",
    "crop_size = 224\n",
    "mean = [0.5, 0.5, 0.5]\n",
    "std = [0.5, 0.5, 0.5]\n",
    "\n",
    "size = int((256 / 224) * crop_size)\n",
    "segmentation_transforms = torchvision.transforms.Compose([\n",
    "    torchvision.transforms.Resize(size=size),\n",
    "    torchvision.transforms.CenterCrop(crop_size),\n",
    "])\n",
    "\n",
    "patch_size = 16\n",
    "image_patches = []\n",
    "for dic in tqdm(eyes_file):\n",
    "    path = dic['image'].replace('/home/farnoush/symbolicXAI/dataset/images/', \n",
    "                                '/Users/thomasschnake/Research/Projects/symbolic_xai/datasets/fer_images/')\n",
    "    image_pil = Image.open(path).convert(\"RGB\")\n",
    "    sample = segmentation_transforms(image_pil)\n",
    "    patches = split_image_into_patches(sample, (16, 16))\n",
    "    image_patches.append(patches) # thise are just he bounding boxes for each patch, not the patch itself.\n",
    "\n"
   ]
  },
  {
   "cell_type": "code",
   "execution_count": null,
   "id": "732037cb-aad2-4c7c-9ee5-1e2807992a3c",
   "metadata": {},
   "outputs": [],
   "source": []
  },
  {
   "cell_type": "code",
   "execution_count": null,
   "id": "5b1211bd-3291-4f55-9e7b-45dee6c46f6e",
   "metadata": {},
   "outputs": [
    {
     "name": "stderr",
     "output_type": "stream",
     "text": [
      "  0%|          | 0/280 [00:00<?, ?it/s]"
     ]
    },
    {
     "name": "stderr",
     "output_type": "stream",
     "text": [
      "/var/folders/wh/dzlv3bps3ms61gjh0rl9y1r00000gp/T/ipykernel_20462/462574233.py:68: UserWarning: Creating a tensor from a list of numpy.ndarrays is extremely slow. Please consider converting the list to a single numpy.ndarray with numpy.array() before converting to a tensor. (Triggered internally at /Users/runner/work/pytorch/pytorch/pytorch/torch/csrc/utils/tensor_new.cpp:278.)\n",
      "  box_tensor = torch.tensor([box], dtype=torch.float32)\n",
      "100%|██████████| 280/280 [00:00<00:00, 3861.96it/s]\n"
     ]
    }
   ],
   "source": [
    "# \n",
    "eyes_indices = []\n",
    "mouth_indices = []\n",
    "# eyebrows_indices = []\n",
    "\n",
    "for i in tqdm(range(280)):\n",
    "    eyes = []\n",
    "    for box in boxes_eyes[i][0]:\n",
    "        eyes.append(find_intersecting_patches(box, image_patches[i]))\n",
    "    eyes_indices.append(eyes)\n",
    "\n",
    "    # eyebrows = []\n",
    "    # for box in boxes_eyebrows[i][0]:\n",
    "    #     eyebrows.extend(find_intersecting_patches(box, image_patches[i]))\n",
    "    # eyebrows_indices.append(eyebrows)\n",
    "\n",
    "    mouth = []\n",
    "    for box in boxes_mouth[i][0]:\n",
    "        mouth.append(find_intersecting_patches(box, image_patches[i]))\n",
    "    mouth_indices.append(mouth)"
   ]
  },
  {
   "cell_type": "code",
   "execution_count": null,
   "id": "6b5a2567-81a2-4d28-9e8b-02e075089f0c",
   "metadata": {},
   "outputs": [],
   "source": []
  },
  {
   "cell_type": "markdown",
   "id": "62ce131a-b932-4a70-9a5f-40c8c24d6c31",
   "metadata": {},
   "source": [
    "After a thorough visual insepction, these images were found to be problematic."
   ]
  },
  {
   "cell_type": "code",
   "execution_count": null,
   "id": "acafb7f5-b10a-45c9-ac95-c11e3d7ece3c",
   "metadata": {},
   "outputs": [],
   "source": [
    "problematic_images = [\n",
    "    12,\n",
    "    15,\n",
    "    16,\n",
    "    17,\n",
    "    24,\n",
    "    253,\n",
    "    260,\n",
    "    263,\n",
    "    279,\n",
    "    3,\n",
    "    4,\n",
    "    5,\n",
    "    9,\n",
    "    13,\n",
    "    252\n",
    "]"
   ]
  },
  {
   "cell_type": "markdown",
   "id": "b1dc951c-5f3f-4548-99c9-fb3c5b0edbc2",
   "metadata": {},
   "source": [
    "## Use Symbolic XAI framework"
   ]
  },
  {
   "cell_type": "code",
   "execution_count": null,
   "id": "287f13dc-8028-4ccf-9b34-c5bee2dcf9dc",
   "metadata": {},
   "outputs": [],
   "source": [
    "crop_size = 224\n",
    "mean = [0.5, 0.5, 0.5]\n",
    "std = [0.5, 0.5, 0.5]\n",
    "\n",
    "size = int((256 / 224) * crop_size)\n",
    "size = 224\n",
    "\n",
    "label_to_id = {'sad': 0, 'disgust': 1, 'angry': 2, 'neutral': 3, 'fear': 4, 'surprise': 5, 'happy': 6}\n",
    "\n",
    "transforms = torchvision.transforms.Compose([\n",
    "    torchvision.transforms.Resize(size=size, interpolation=3),\n",
    "    torchvision.transforms.CenterCrop(crop_size),\n",
    "    torchvision.transforms.ToTensor(),\n",
    "    torchvision.transforms.Normalize(mean=mean, std=std)\n",
    "])"
   ]
  },
  {
   "cell_type": "markdown",
   "id": "50c03d04-489e-485d-8e56-f71b26aa61aa",
   "metadata": {},
   "source": [
    "### Load model"
   ]
  },
  {
   "cell_type": "code",
   "execution_count": null,
   "id": "6b3919db-7575-4e97-8ad2-4a4efa7bef55",
   "metadata": {},
   "outputs": [],
   "source": [
    "processor = transformers.AutoImageProcessor.from_pretrained(\"dima806/facial_emotions_image_detection\")\n",
    "model = transformers.AutoModelForImageClassification.from_pretrained(\"dima806/facial_emotions_image_detection\")\n",
    "model.eval()\n",
    "\n",
    "model.vit.embeddings.patch_embeddings.requires_grad = False\n",
    "model.vit.embeddings.patch_embeddings.requires_grad = False\n",
    "\n",
    "for name, param in model.named_parameters():\n",
    "    if name.endswith('embed'):\n",
    "        param.requires_grad = False\n",
    "\n",
    "pretrained_embeddings = model.vit.embeddings"
   ]
  },
  {
   "cell_type": "code",
   "execution_count": null,
   "id": "3690a93a-7d5a-4969-bb77-6b65a0a5c685",
   "metadata": {},
   "outputs": [],
   "source": [
    "def generate_table(tokens, max_subsetsize = 4):\n",
    "    N = len(tokens)\n",
    "    # num_subsets = 2 ** N\n",
    "\n",
    "    # Generate all subsets of tokens\n",
    "    subsets = list(itertools.chain.from_iterable(itertools.combinations(tokens, r) for r in range(N+1)))\n",
    "    subsets = [sset for sset in subsets if sset != () and len(sset)<=max_subsetsize]\n",
    "    # Create a matrix to represent the table\n",
    "    table = np.zeros((len(subsets), N))\n",
    "\n",
    "    for j, subset in enumerate(subsets):\n",
    "        for token in subset:\n",
    "            i = tokens.index(token)\n",
    "            table[j, i] = 1\n",
    "\n",
    "    return table, subsets\n",
    "    "
   ]
  },
  {
   "cell_type": "markdown",
   "id": "5ccd7904-2f73-497b-a319-c58e7e028fa8",
   "metadata": {},
   "source": [
    "# Load sample specific information"
   ]
  },
  {
   "cell_type": "code",
   "execution_count": null,
   "id": "cde70a0e-a312-4384-8c42-9daf41d9734f",
   "metadata": {},
   "outputs": [],
   "source": [
    "from functools import reduce\n",
    "# sample_id = 22\n",
    "sample_id = 22 #267 #267 # 277 #267 # 267\n",
    "\n",
    "# mode = 3 # There are 2 options {1, 2}\n",
    "\n",
    "data_rel_dic = {}\n",
    "# ids_dic = {}  # A dictionary that stores the ids of images that are correctly classified and belong to 'sad' or 'happy' classes.\n",
    "num = 0\n",
    "total = 0\n",
    "tokens = ['eyes', 'mouth', 'rest']\n",
    "sample_range = [0,1,7,8,10,11,14,18,19,20,12]\n",
    "\n",
    "# for sample_id in range(len(eyes_file)):\n",
    "    \n",
    "# for i, dic in enumerate(tqdm(eyes_file)):\n",
    "dic = eyes_file[sample_id]\n",
    "\n",
    "path = dic['image'].replace('/home/farnoush/symbolicXAI/dataset/images/', \n",
    "                            '/Users/thomasschnake/Research/Projects/symbolic_xai/datasets/fer_images/')\n",
    "label = label_to_id[dic['label']] \n",
    "image_pil = Image.open(path).convert(\"RGB\")\n",
    "sample = transforms(image_pil)"
   ]
  },
  {
   "cell_type": "markdown",
   "id": "2b734dc5-8f6f-4745-85d2-0d9e94ce55b0",
   "metadata": {},
   "source": [
    "# Look at the image"
   ]
  },
  {
   "cell_type": "code",
   "execution_count": null,
   "id": "37884cf3-6765-4d07-9008-837253444409",
   "metadata": {},
   "outputs": [
    {
     "data": {
      "image/png": "[encoded data removed]",
      "text/plain": [
       "<Figure size 1050x1050 with 1 Axes>"
      ]
     },
     "metadata": {},
     "output_type": "display_data"
    }
   ],
   "source": [
    "showable_image = ((((sample +1)/2)* 255).numpy().clip(0, 255).astype(np.uint8)).transpose(1,2,0)\n",
    "\n",
    "# mask_eyes = eyes_file[sample_id]['mask_eyes'][1] + eyes_file[sample_id]['mask_eyes'][0]\n",
    "# mask_mouth = mouth_file[sample_id]['mask_mouth'][0]\n",
    "\n",
    "eyes_tokens = eyes_indices[sample_id]\n",
    "mouth_tokens = mouth_indices[sample_id]\n",
    "\n",
    "patch_indices = image_patches[0] ## this list image_patches consists of identical elements for all images.\n",
    "# print(patch_indices)\n",
    "def pixel_mask_from_tokens(tokens):\n",
    "    tokens_mask = np.zeros((224,224)).astype(bool)\n",
    "    for token in tokens:\n",
    "        left, upper, right, lower = patch_indices[token]\n",
    "        for px in range(left,right):\n",
    "            for py in range(upper,lower):\n",
    "                tokens_mask[py,px] = True\n",
    "    return tokens_mask\n",
    "    \n",
    "eyes_tokens_mask = []\n",
    "for eye_tokens in eyes_tokens:\n",
    "    eyes_tokens_mask.append(pixel_mask_from_tokens(eye_tokens))\n",
    "mouth_token_mask = pixel_mask_from_tokens(mouth_tokens[0])\n",
    "# print(patch_indices)\n",
    "    \n",
    "# mouth_shadow = np.ma.masked_where(mask_mouth==False, mask_mouth ) \n",
    "eyes_shadow = [np.ma.masked_where(eye_tokens_mask==False, eye_tokens_mask ) for eye_tokens_mask in eyes_tokens_mask]\n",
    "mouth_shadow = np.ma.masked_where(mouth_token_mask==False, mouth_token_mask )\n",
    "\n",
    "plt.figure(figsize=(7,7), dpi=150)\n",
    "plt.imshow(showable_image)\n",
    "# for eye_shadow in eyes_shadow:\n",
    "#     plt.imshow(eye_shadow, alpha=.4)\n",
    "# # print(eyes_shadow)\n",
    "# plt.imshow(mouth_shadow,alpha=.4)\n",
    "plt.axis('off')\n",
    "plt.show()\n"
   ]
  },
  {
   "cell_type": "code",
   "execution_count": null,
   "id": "29ba4aab",
   "metadata": {},
   "outputs": [
    {
     "data": {
      "text/plain": [
       "(267,\n",
       " '/Users/thomasschnake/Research/Projects/symbolic_xai/datasets/fer_images/validation/happy/20685.jpg')"
      ]
     },
     "execution_count": 15,
     "metadata": {},
     "output_type": "execute_result"
    }
   ],
   "source": [
    "sample_id, dic['image'].replace('/home/farnoush/symbolicXAI/dataset/images/', \n",
    "                            '/Users/thomasschnake/Research/Projects/symbolic_xai/datasets/fer_images/')"
   ]
  },
  {
   "cell_type": "code",
   "execution_count": null,
   "id": "3a63d459-0dc4-48c3-9a61-b79669f2c598",
   "metadata": {
    "scrolled": true
   },
   "outputs": [
    {
     "name": "stdout",
     "output_type": "stream",
     "text": [
      "prediction is: sad\n"
     ]
    },
    {
     "name": "stderr",
     "output_type": "stream",
     "text": [
      "100%|██████████| 7/7 [00:09<00:00,  1.31s/it]\n"
     ]
    }
   ],
   "source": [
    "from functools import reduce\n",
    "\n",
    "target = torch.eye(7, dtype=sample.dtype)[label]\n",
    "# target[0] = -1\n",
    "\n",
    "symbxai_vit = ViTSymbolicXAI(\n",
    "    model=model,\n",
    "    embeddings=pretrained_embeddings,\n",
    "    sample=sample.unsqueeze(0),\n",
    "    target=target,\n",
    "    start_subgraph_at=None\n",
    ")\n",
    "\n",
    "pred = model(sample.unsqueeze(0))['logits'].argmax()\n",
    "print('prediction is:', [emotion for emotion,label in label_to_id.items() if label ==pred][0] )\n",
    "# Only consider 'happy' and 'sad' classes.\n",
    "if label in [0, 6] and sample_id not in problematic_images:\n",
    "    total += 1\n",
    "    if label == pred.item():\n",
    "        # ids_dic[num] = sample_id\n",
    "        num += 1\n",
    "        \n",
    "        eyes = [list(np.array( curr_eye_indices ).flatten() + 1) for curr_eye_indices in eyes_indices[sample_id]]\n",
    "        \n",
    "        mouth = list(np.array(mouth_indices[sample_id]).flatten() + 1) \n",
    "        rest = list(set(symbxai_vit.node_domain) - set(mouth) - set(reduce(lambda x,y: x+y, eyes)))\n",
    "        \n",
    "        not_mouth = list(set(symbxai_vit.node_domain) - set(mouth))\n",
    "        not_eyes = list(set(symbxai_vit.node_domain) - set(reduce(lambda x,y: x+y, eyes)))\n",
    "        not_rest = list(set(symbxai_vit.node_domain) - set(rest))\n",
    "        \n",
    "\n",
    "        table, subsets = generate_table(tokens)\n",
    "        values = {}\n",
    "        for subset in tqdm(subsets):\n",
    "            tokens_subset = []\n",
    "            if 'eyes' in subset:\n",
    "                tokens_subset.append(reduce(lambda x,y: x+y, eyes))\n",
    "            if 'mouth' in subset:\n",
    "                tokens_subset.append(mouth)\n",
    "            if 'rest' in subset:\n",
    "                tokens_subset.append(rest)\n",
    "            # rel = symbxai_vit.symb_and( tokens_subset, context=reduce(lambda x,y: x+y, tokens_subset ))\n",
    "            rel = symbxai_vit.harsanyi_div(tokens_subset)\n",
    "            values[subset] = rel\n",
    "    else:\n",
    "        print('label not target',  sample_id)\n",
    "else:\n",
    "    print('no, label or problematic image', sample_id)\n",
    "        "
   ]
  },
  {
   "cell_type": "code",
   "execution_count": null,
   "id": "c61b517e-477d-4379-9fa8-ec06ab872dc1",
   "metadata": {},
   "outputs": [
    {
     "data": {
      "text/plain": [
       "set()"
      ]
     },
     "execution_count": 20,
     "metadata": {},
     "output_type": "execute_result"
    }
   ],
   "source": [
    "set(mouth).intersection(reduce( lambda x,y: x+y,eyes))"
   ]
  },
  {
   "cell_type": "code",
   "execution_count": null,
   "id": "21fa73f3-a9bf-4573-84e3-b30ad5d87f6e",
   "metadata": {},
   "outputs": [
    {
     "data": {
      "image/png": "[encoded data removed]",
      "text/plain": [
       "<Figure size 600x700 with 2 Axes>"
      ]
     },
     "metadata": {},
     "output_type": "display_data"
    }
   ],
   "source": [
    "from symbxai.visualization.utils import plot_table\n",
    "\n",
    "# Example usage\n",
    "# tokens = ['Not', 'very', 'good',]\n",
    "# table, subsets = generate_table(interesting_tokens)\n",
    "# values = {}\n",
    "# for subset in tqdm(subsets):\n",
    "#     values[subset] = explainer.harsanyi_div([tid for tid in subset])\n",
    "# values  = data_rel_dic[0]\n",
    "# values = {subset:  for subset in subsets }\n",
    "\n",
    "plot_table(table, subsets, tokens, list(values.values()))"
   ]
  },
  {
   "cell_type": "code",
   "execution_count": null,
   "id": "0b2e6c87-9d62-49a8-a360-266e795ee2e2",
   "metadata": {},
   "outputs": [
    {
     "data": {
      "text/plain": [
       "({('eyes',): tensor(0.0157),\n",
       "  ('mouth',): tensor(0.0534),\n",
       "  ('rest',): tensor(2.4061),\n",
       "  ('eyes', 'mouth'): tensor(0.0536),\n",
       "  ('eyes', 'rest'): tensor(1.2580),\n",
       "  ('mouth', 'rest'): tensor(1.9377),\n",
       "  ('eyes', 'mouth', 'rest'): tensor(0.6431)},\n",
       " tensor(6.3675))"
      ]
     },
     "execution_count": 22,
     "metadata": {},
     "output_type": "execute_result"
    }
   ],
   "source": [
    "values, sum(values.values())"
   ]
  }
 ],
 "metadata": {
  "kernelspec": {
   "display_name": "symbxai",
   "language": "python",
   "name": "symbxai"
  },
  "language_info": {
   "codemirror_mode": {
    "name": "ipython",
    "version": 3
   },
   "file_extension": ".py",
   "mimetype": "text/x-python",
   "name": "python",
   "nbconvert_exporter": "python",
   "pygments_lexer": "ipython3",
   "version": "3.10.14"
  }
 },
 "nbformat": 4,
 "nbformat_minor": 5
}
