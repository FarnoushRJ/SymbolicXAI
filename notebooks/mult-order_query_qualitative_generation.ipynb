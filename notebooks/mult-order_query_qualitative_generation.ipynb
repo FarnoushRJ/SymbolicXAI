{
 "cells": [
  {
   "cell_type": "code",
   "execution_count": 1,
   "id": "2dee579d-5bd9-4471-a231-5128044fc820",
   "metadata": {},
   "outputs": [],
   "source": [
    "%load_ext autoreload\n",
    "%autoreload 2\n"
   ]
  },
  {
   "cell_type": "markdown",
   "id": "a0fdc4ae-db3f-4c01-ad94-355f030942bc",
   "metadata": {},
   "source": [
    "# Load model and data"
   ]
  },
  {
   "cell_type": "code",
   "execution_count": 2,
   "id": "cd18def9-1ba5-4cb0-8287-34c701eb386f",
   "metadata": {
    "scrolled": true
   },
   "outputs": [
    {
     "name": "stderr",
     "output_type": "stream",
     "text": [
      "/opt/homebrew/Caskroom/miniconda/base/envs/symbxai/lib/python3.10/site-packages/tqdm/auto.py:21: TqdmWarning: IProgress not found. Please update jupyter and ipywidgets. See https://ipywidgets.readthedocs.io/en/stable/user_install.html\n",
      "  from .autonotebook import tqdm as notebook_tqdm\n"
     ]
    },
    {
     "name": "stdout",
     "output_type": "stream",
     "text": [
      "it's tough to watch, but it's a fantastic movie. \n",
      "\n",
      "s1m0ne's satire is not subtle, but it is effective. \n",
      "\n",
      "this orange has some juice, but it's far from fresh-squeezed. \n",
      "\n",
      "strange it is, but delightfully so. \n",
      "\n",
      "i 've never bought from telemarketers, but i bought this movie. \n",
      "\n",
      "it's still a comic book, but maguire makes it a comic book with soul. \n",
      "\n",
      "could use a little more humanity, but it never lacks in eye-popping visuals. \n",
      "\n",
      "the movie is amateurish, but it's a minor treat. \n",
      "\n",
      "topics that could make a sailor blush - but lots of laughs. \n",
      "\n",
      "the picture runs a mere 84 minutes, but it's no glance. \n",
      "\n",
      "it doesn't reach them, but the effort is gratefully received. \n",
      "\n",
      "a modestly made but profoundly moving documentary. \n",
      "\n",
      "me no lika da accents so good, but i thoroughly enjoyed the love story. \n",
      "\n",
      "a summer entertainment adults can see without feeling embarrassed, but it could have been more. \n",
      "\n",
      "the sentimental script has problems, but the actors pick up the slack. \n",
      "\n",
      "it's never laugh-out-loud funny, but it is frequently amusing. \n",
      "\n",
      "may not be a breakthrough in filmmaking, but it is unwavering and arresting. \n",
      "\n",
      "the story plays out slowly, but the characters are intriguing and realistic. \n",
      "\n",
      "weighty and ponderous but every bit as filling as the treat of the title. \n",
      "\n",
      "maryam is a small film, but it offers large rewards. \n",
      "\n",
      "at 90 minutes this movie is short, but it feels much longer. \n",
      "\n",
      "it falls far short of poetry, but it's not bad prose. \n",
      "\n",
      "we 've liked klein's other work but rollerball left us cold. \n",
      "\n",
      "the elements were all there but lack of a pyschological center knocks it flat. \n",
      "\n",
      "it gets the details of its time frame right but it completely misses its emotions. \n",
      "\n",
      "you can taste it, but there's no fizz. \n",
      "\n",
      "the original wasn't a good movie but this remake makes it look like a masterpiece ! \n",
      "\n",
      "it's mildly amusing, but i certainly can't recommend it. \n",
      "\n",
      "nothing wrong with performances here, but the whiney characters bugged me. \n",
      "\n",
      "entertaining enough, but nothing new \n",
      "\n",
      "it's fun, but it's a real howler. \n",
      "\n",
      "it has no affect on the kurds, but it wore me down. \n",
      "\n",
      "no one can doubt the filmmakers' motives, but the guys still feels counterproductive. \n",
      "\n",
      "shows moments of promise but ultimately succumbs to cliches and pat storytelling. \n",
      "\n",
      "it looks good, but it is essentially empty. \n",
      "\n",
      "its premise is smart, but the execution is pretty weary. \n",
      "\n",
      "talkiness isn't necessarily bad, but the dialogue frequently misses the mark. \n",
      "\n",
      "it's a big idea, but the film itself is small and shriveled. \n",
      "\n"
     ]
    }
   ],
   "source": [
    "from symbxai.lrp.symbolic_xai import BERTSymbXAI\n",
    "from symbxai.model.transformer import bert_base_uncased_model\n",
    "from symbxai.dataset.utils import load_sst_treebank, load_imdb_dataset\n",
    "import transformers\n",
    "import pickle\n",
    "model = bert_base_uncased_model(\n",
    "            pretrained_model_name_or_path='textattack/bert-base-uncased-SST-2' )\n",
    "    \n",
    "model.eval()\n",
    "# pretrained_embeddings = model.bert.embeddings\n",
    "tokenizer = transformers.BertTokenizer.from_pretrained(\"textattack/bert-base-uncased-SST-2\")\n",
    "sample_range = map(int, '138 259 324 385 413 658 851 1469 1518 1614 1716 2086 2351 2509 2555 3287 3423 3427 3493 3617 4328 4634 4724 5177 5293 5356 5602 5703 5734 6072 6347 6593 7147 7349 7411 7560 8015 8145'.split(' '))\n",
    "sst_dataset = load_sst_treebank(sample_range, verbose=False)['train']\n",
    "with open('../data/mouth_segments.json', 'rb') as file:\n",
    "    mouth_segments = pickle.load(file)\n",
    "with open('../data/eyes_segments.json', 'rb') as file:\n",
    "    eyes_segments = pickle.load(file)\n",
    "\n",
    "# print('got', len(dataset['label']), 'samples from sst')\n",
    "\n",
    "dataset = {'sentence': { 0: \"Not very good\" }, 'label': {0:0} }\n",
    "\n",
    "for sentence in sst_dataset['sentence'].values():\n",
    "    print(sentence, '\\n')\n"
   ]
  },
  {
   "cell_type": "code",
   "execution_count": null,
   "id": "75e5c3b7-2bcb-43f3-a5fd-e656ccfc0e8d",
   "metadata": {},
   "outputs": [],
   "source": []
  },
  {
   "cell_type": "markdown",
   "id": "d5b19cac-cf82-4b4f-be7d-1abcb33f9a85",
   "metadata": {},
   "source": [
    "# Setup explainer"
   ]
  },
  {
   "cell_type": "code",
   "execution_count": 3,
   "id": "6e87a0a3-d60a-44e6-9ac0-5789374f38a9",
   "metadata": {},
   "outputs": [
    {
     "name": "stdout",
     "output_type": "stream",
     "text": [
      "Not very good\n",
      "prediction is 0\n"
     ]
    }
   ],
   "source": [
    "import torch\n",
    "\n",
    "sentence, label = dataset['sentence'][0],  dataset['label'][0]\n",
    "sample = tokenizer(sentence, return_tensors=\"pt\")\n",
    "tokens = tokenizer.convert_ids_to_tokens(sample['input_ids'].squeeze())\n",
    "target_class = model(**sample)['logits'].argmax().item()\n",
    "print(sentence)\n",
    "print('prediction is', target_class)\n",
    "# output_mask = torch.tensor([0,0]); output_mask[target_class]=1\n",
    "output_mask = torch.tensor([0,0])\n",
    "output_mask[label] =1 \n",
    "\n",
    "### Generate node ordering\n",
    "explainer = BERTSymbXAI(sample=sample,\n",
    "                    target=output_mask,\n",
    "                    model=model,\n",
    "                    embeddings=model.bert.embeddings,\n",
    "                    gam=.01\n",
    "                       )\n",
    "\n",
    "token2id = {token: i for i,token in enumerate(tokens)}\n",
    "neg_tokens = ['[CLS]', '[SEP]']\n",
    "interesting_tokens = list(range(1,len(tokens)-1)) #[token for token in tokens if token not in neg_tokens]\n"
   ]
  },
  {
   "cell_type": "code",
   "execution_count": null,
   "id": "c56a4780",
   "metadata": {},
   "outputs": [],
   "source": []
  },
  {
   "cell_type": "code",
   "execution_count": 4,
   "id": "8ee22108-1449-4a91-9b13-bc74d1775d41",
   "metadata": {},
   "outputs": [
    {
     "name": "stderr",
     "output_type": "stream",
     "text": [
      "100%|██████████| 7/7 [00:01<00:00,  6.86it/s]\n"
     ]
    },
    {
     "data": {
      "image/png": "[encoded data removed]",
      "text/plain": [
       "<Figure size 600x700 with 2 Axes>"
      ]
     },
     "metadata": {},
     "output_type": "display_data"
    }
   ],
   "source": [
    "import matplotlib.pyplot as plt\n",
    "import numpy as np\n",
    "import itertools\n",
    "from tqdm import tqdm\n",
    "\n",
    "def generate_table(tokens, max_subsetsize = 4):\n",
    "    N = len(tokens)\n",
    "    # num_subsets = 2 ** N\n",
    "\n",
    "    # Generate all subsets of tokens\n",
    "    subsets = list(itertools.chain.from_iterable(itertools.combinations(tokens, r) for r in range(N+1)))[::-1]\n",
    "    subsets = [sset for sset in subsets if sset != () and len(sset)<=max_subsetsize]\n",
    "    # Create a matrix to represent the table\n",
    "    table = np.zeros((len(subsets), N))\n",
    "\n",
    "    for j, subset in enumerate(subsets):\n",
    "        for token in subset:\n",
    "            i = tokens.index(token)\n",
    "            table[j, i] = 1\n",
    "\n",
    "    return table, subsets\n",
    "\n",
    "# def generate_values(num_subsets):\n",
    "#     # Generate random values from a normal distribution\n",
    "#     values = np.random.randn(num_subsets)\n",
    "#     return values\n",
    "\n",
    "def plot_table(table, subsets, tokens, values):\n",
    "    num_subsets, N = table.shape\n",
    "\n",
    "    fig, ax = plt.subplots(1, 2, gridspec_kw={'width_ratios': [1, 1]}, figsize=(len(tokens)*2, len(subsets)))\n",
    "\n",
    "    # Plot histograms\n",
    "    for j in range(num_subsets):\n",
    "        value = values[j]\n",
    "        color = 'red' if value >= 0 else 'blue'\n",
    "        ax[0].barh(j, value, color=color, edgecolor='black', alpha=.5)\n",
    "\n",
    "\n",
    "    ax[0].set_xlim(-0.5, num_subsets - 0.5)\n",
    "    ax[0].set_xticks([])\n",
    "    ax[0].set_yticks([])\n",
    "    # Set the bottom and top spines invisible\n",
    "    ax[0].spines['bottom'].set_visible(False)\n",
    "    ax[0].spines['top'].set_visible(False)\n",
    "    ax[0].spines['right'].set_visible(False)\n",
    "    ax[0].spines['left'].set_visible(False)\n",
    "    # Set the Y-axis tick label font size\n",
    "    ax[0].tick_params(axis='y', labelsize=20)\n",
    "\n",
    "    # draw horizontal line\n",
    "    ax[0].vlines(0, -0.5, num_subsets - 0.5, colors='black', lw=1)\n",
    "\n",
    "    # Plot the table\n",
    "    for i in range(N):\n",
    "        for j in range(num_subsets):\n",
    "            color = 'green' if table[j, i] == 1 else 'white'\n",
    "            rect = plt.Rectangle([i, j],1,  1, facecolor=color, edgecolor='black', alpha=.6)\n",
    "            ax[1].add_patch(rect)\n",
    "\n",
    "    # Set the x and y ticks\n",
    "    ax[1].set_yticks([])\n",
    "    ax[1].set_xticks([])\n",
    "    # ax[1].set_xticklabels([str(set(subset)) for subset in subsets], rotation=90)\n",
    "    # ax[1].set_xticklabels(tokens[::-1], fontsize=20)\n",
    "\n",
    "    # Set the limits and aspect ratio\n",
    "    ax[1].set_ylim(0, num_subsets)\n",
    "    ax[1].set_xlim(0, N)\n",
    "    ax[1].set_aspect('equal')\n",
    "\n",
    "    plt.tight_layout()\n",
    "    # plt.savefig('intermediate_results/fig1_multi_order_subsets.svg', transparent=True)\n",
    "    plt.show()\n",
    "\n",
    "# Example usage\n",
    "# tokens = ['Not', 'very', 'good',]\n",
    "table, subsets = generate_table(interesting_tokens)\n",
    "values = {}\n",
    "for subset in tqdm(subsets):\n",
    "    values[subset] = explainer.harsanyi_div([tid for tid in subset])\n",
    "# values = {subset:  for subset in subsets }\n",
    "plot_table(table, subsets, interesting_tokens, list(values.values()))"
   ]
  },
  {
   "cell_type": "markdown",
   "id": "c894e8fd-7d3b-4323-bc82-1dad32f3cd4a",
   "metadata": {},
   "source": [
    "# Show first order XAI"
   ]
  },
  {
   "cell_type": "code",
   "execution_count": 5,
   "id": "776683e9-a808-4f25-80a9-d29aa982511b",
   "metadata": {},
   "outputs": [
    {
     "name": "stderr",
     "output_type": "stream",
     "text": [
      "2475 bytes written to file /Users/thomasschnake/Research/Projects/symbolic_xai_cleaned/symbolicXAI_github/notebooks/intermediate_results/temp_sentence.png\n"
     ]
    },
    {
     "data": {
      "text/html": [
       "<span style=\"font-family:Courier; font-weight:bold; background-color:#ff3131\">not</span> <span style=\"font-family:Courier; font-weight:bold; background-color:#fffafa\">very</span> <span style=\"font-family:Courier; font-weight:bold; background-color:#e2e2ff\">good</span> \n"
      ],
      "text/plain": [
       "<IPython.core.display.HTML object>"
      ]
     },
     "metadata": {},
     "output_type": "display_data"
    }
   ],
   "source": [
    "from IPython.display import display, HTML, Latex\n",
    "from symbxai.visualization.utils import html_heatmap \n",
    "from html2image import Html2Image\n",
    "\n",
    "html_str = html_heatmap(tokens[1:-1], explainer.node_relevance()[1:-1] ) \n",
    "\n",
    "htmlimg = Html2Image()\n",
    "htmlimg.output_path= 'intermediate_results/'\n",
    "htmlimg.screenshot(\n",
    "    html_str=html_str,\n",
    "    css_str ='',\n",
    "    save_as ='temp_sentence.png',\n",
    "    size    =(len(tokens)* 40,50)\n",
    "            )\n",
    "\n",
    "display(HTML(html_str))"
   ]
  },
  {
   "cell_type": "markdown",
   "id": "365eca5d-6225-4446-810d-71ab11542bc0",
   "metadata": {},
   "source": [
    "# Set up queries"
   ]
  },
  {
   "cell_type": "code",
   "execution_count": 6,
   "id": "ad5f13b4-f778-488e-ba14-4127c345ec83",
   "metadata": {},
   "outputs": [],
   "source": [
    "from symbxai.utils import Query\n",
    "symbxai_mode = True\n",
    "\n",
    "if symbxai_mode:\n",
    "    queries_ids = [ ('$\\\\neg$not $\\\\wedge$good', ((1 - len(tokens),), (3,))),\n",
    "              ('not$\\\\wedge$good', ((1,),(3,))),\n",
    "              ('not $\\\\wedge \\\\neg$good', ((1,), (3-len(tokens),),))]\n",
    "    image_name = 'fig1_query_attr_barplot'\n",
    "else:\n",
    "    queries_ids = [ ('not', ((1,),)),\n",
    "              ('very', ((2,),)),\n",
    "              ('good', ((3,),))]\n",
    "    image_name = 'fig1_word_attr_barplot'\n",
    "queries = [Query(str_rep=str_rep, hash_rep=hash_rep, nb_feats=len(tokens)) for str_rep, hash_rep in queries_ids ]"
   ]
  },
  {
   "cell_type": "markdown",
   "id": "4355cdf8-5eb1-483c-a538-1f6eaf9f7516",
   "metadata": {},
   "source": [
    "# Generate binary vector for the filter function"
   ]
  },
  {
   "cell_type": "code",
   "execution_count": 7,
   "id": "159238e3-b3b3-4074-87ae-4b03de81dd72",
   "metadata": {},
   "outputs": [
    {
     "data": {
      "image/png": "[encoded data removed]",
      "text/plain": [
       "<Figure size 700x100 with 1 Axes>"
      ]
     },
     "metadata": {},
     "output_type": "display_data"
    },
    {
     "data": {
      "image/png": "[encoded data removed]",
      "text/plain": [
       "<Figure size 700x100 with 1 Axes>"
      ]
     },
     "metadata": {},
     "output_type": "display_data"
    },
    {
     "data": {
      "image/png": "[encoded data removed]",
      "text/plain": [
       "<Figure size 700x100 with 1 Axes>"
      ]
     },
     "metadata": {},
     "output_type": "display_data"
    }
   ],
   "source": [
    "\n",
    "for qid, query in enumerate(queries):\n",
    "    fig, ax = plt.subplots(figsize=(len(subsets),1))\n",
    "    bin_table = np.array([int(query(tuple([tid for tid in subset]) )) for subset in subsets])\n",
    "\n",
    "    for j in range(len(subsets)):\n",
    "        color = 'purple' if bin_table[j] == 1 else 'white'\n",
    "        rect = plt.Rectangle([j, 0], 1, .5, facecolor=color, edgecolor='black', alpha=.8)\n",
    "        ax.add_patch(rect)\n",
    "    \n",
    "    # Set the x and y ticks\n",
    "    ax.set_xticks([])\n",
    "    ax.set_yticks([])\n",
    "    \n",
    "    # Set the limits and aspect ratio\n",
    "    ax.set_xlim(0, len(subsets))\n",
    "    ax.set_ylim(0, .5)\n",
    "    ax.set_aspect('equal')\n",
    "    plt.savefig(f'intermediate_results/fig1_query_subset{qid}.png', transparent=True)"
   ]
  },
  {
   "cell_type": "markdown",
   "id": "bc07f1c4-a8b6-4fbb-bc4d-cd1b20d2e4fc",
   "metadata": {},
   "source": [
    "# Calculate query attribution"
   ]
  },
  {
   "cell_type": "code",
   "execution_count": 8,
   "id": "d43dd928-7b70-4d8e-92ce-db234f5ce604",
   "metadata": {},
   "outputs": [
    {
     "data": {
      "image/png": "[encoded data removed]",
      "text/plain": [
       "<Figure size 600x400 with 1 Axes>"
      ]
     },
     "metadata": {},
     "output_type": "display_data"
    }
   ],
   "source": [
    "\n",
    "fig, ax = plt.subplots(figsize=(6,4))\n",
    "for query in queries:\n",
    "    # display(Latex(query.str_rep))\n",
    "    query.attribution = sum([ values[subset].item() for subset in subsets if query(tuple([tid for tid in subset]) )])\n",
    "    \n",
    "    plt.barh(query.str_rep, query.attribution, color='red' if query.attribution>0 else 'blue', edgecolor='black', alpha=.5)\n",
    "\n",
    "ax.spines['top'].set_visible(False)\n",
    "ax.spines['right'].set_visible(False)\n",
    "ax.spines['bottom'].set_visible(False)\n",
    "ax.spines['left'].set_visible(False)\n",
    "plt.xticks([])\n",
    "\n",
    "plt.vlines(0, -.5, len(queries)-.5, color='black', lw=2)\n",
    "maxval= max([abs(q.attribution) for q in queries ])\n",
    "plt.xlim(-maxval -.2, maxval+.2)\n",
    "plt.tight_layout()\n",
    "plt.savefig(f'intermediate_results/{image_name}.svg', transparent=True)"
   ]
  },
  {
   "cell_type": "markdown",
   "id": "1f10afd4",
   "metadata": {},
   "source": [
    "# Calculate first-order histogram"
   ]
  },
  {
   "cell_type": "code",
   "execution_count": 9,
   "id": "723e57af",
   "metadata": {},
   "outputs": [
    {
     "data": {
      "image/png": "[encoded data removed]",
      "text/plain": [
       "<Figure size 600x400 with 1 Axes>"
      ]
     },
     "metadata": {},
     "output_type": "display_data"
    }
   ],
   "source": [
    "fig, ax = plt.subplots(figsize=(6,4))\n",
    "\n",
    "token_rels = explainer.node_relevance()[1:-1]\n",
    "\n",
    "for rel, token in zip(token_rels, ['not', 'very',  'good']):\n",
    "    \n",
    "    plt.barh(token, rel, color='red' if rel>0 else 'blue', edgecolor='black', alpha=.5)\n",
    "\n",
    "ax.spines['top'].set_visible(False)\n",
    "ax.spines['right'].set_visible(False)\n",
    "ax.spines['bottom'].set_visible(False)\n",
    "ax.spines['left'].set_visible(False)\n",
    "plt.xticks([])\n",
    "\n",
    "plt.vlines(0, -.5, len(queries)-.5, color='black', lw=2)\n",
    "maxval= max(token_rels)\n",
    "plt.xlim(-maxval -.2, maxval+.2)\n",
    "plt.tight_layout()\n",
    "plt.savefig('intermediate_results/fig1_word_attr_barplot.svg', transparent=True)"
   ]
  },
  {
   "cell_type": "code",
   "execution_count": null,
   "id": "39125604",
   "metadata": {},
   "outputs": [],
   "source": []
  },
  {
   "cell_type": "markdown",
   "id": "5faae067-64d8-40a2-ad5d-041e12fc60b1",
   "metadata": {},
   "source": [
    "# Calculate query expressiveness"
   ]
  },
  {
   "cell_type": "code",
   "execution_count": 10,
   "id": "33c8f2c5-5d68-42f5-94b0-a758d935c022",
   "metadata": {},
   "outputs": [
    {
     "data": {
      "image/png": "[encoded data removed]",
      "text/plain": [
       "<Figure size 600x400 with 1 Axes>"
      ]
     },
     "metadata": {},
     "output_type": "display_data"
    }
   ],
   "source": [
    "from symbxai.query_search.utils import corr\n",
    "fig, ax = plt.subplots(figsize=(6,4))\n",
    "\n",
    "for query in queries:\n",
    "    # display(Latex(query.str_rep))\n",
    "    qvec, harsdiv, eta = zip(*[( int(query(tuple([tid for tid in subset]) )), val.item(), 1) for subset, val in values.items()])\n",
    "    qvec, harsdiv, eta = map(np.array, [qvec, harsdiv, eta])\n",
    "    # print(qvec,'\\n',harsdiv)\n",
    "    query.attribution = corr(qvec,harsdiv,eta)\n",
    "    \n",
    "    plt.barh(query.str_rep, query.attribution, color='red' if query.attribution>0 else 'blue', edgecolor='black', alpha=.5)\n",
    "\n",
    "ax.spines['top'].set_visible(False)\n",
    "ax.spines['right'].set_visible(False)\n",
    "ax.spines['bottom'].set_visible(False)\n",
    "ax.spines['left'].set_visible(False)\n",
    "plt.xticks([])\n",
    "\n",
    "plt.vlines(0, -.5, len(queries)-.5, color='black', lw=2)\n",
    "maxval= max([abs(q.attribution) for q in queries ])\n",
    "plt.xlim(-maxval -.2, maxval+.2)\n",
    "plt.savefig('intermediate_results/fig1_query_expressiv_barplot.png', transparent=True)"
   ]
  },
  {
   "cell_type": "markdown",
   "id": "ebe3ac52-73a4-4460-a860-f3ce941a1caf",
   "metadata": {},
   "source": [
    "# Search Queries"
   ]
  },
  {
   "cell_type": "code",
   "execution_count": 11,
   "id": "7a5245d4-5c9e-4e6c-b74f-21b00ccc5db9",
   "metadata": {},
   "outputs": [],
   "source": [
    "from symbxai.query_search.utils import setup_queries\n",
    "max_and_order = 4\n",
    "all_queries = setup_queries(explainer.node_domain, \n",
    "                                    tokens,\n",
    "                                    max_and_order, \n",
    "                                    # max_setsize=max_setsize, \n",
    "                                    # max_indexdist=1, \n",
    "                                    # mode=query_mode,\n",
    "                                    neg_tokens=[0,len(tokens) -1 ])\n",
    "\n",
    "for i, q in enumerate(all_queries):\n",
    "    # featsset = queryhash2featset(q.hash, tokens)\n",
    "    qvec, harsdiv, eta = zip(*[( int(q(tuple([tid for tid in subset]) )), val.item(), 1) for subset, val in values.items()])\n",
    "    qvec, harsdiv, eta = map(np.array, [qvec, harsdiv, eta])\n",
    "    \n",
    "    # print(qvec,'\\n',harsdiv)\n",
    "    q.expressiveness = corr(qvec,harsdiv,eta)\n",
    "    q.attribution = sum([ values[subset].item() for subset in subsets if q(tuple([tid for tid in subset]) )])\n",
    "    \n",
    "    # display(HTML(f'('+ q.str_rep + f')<br> {round(q.attribution,3)} - {round(q.expressiveness,3)}<br><br>'))"
   ]
  },
  {
   "cell_type": "code",
   "execution_count": 12,
   "id": "884ac2e1-a41c-40c0-b69c-5e750760202b",
   "metadata": {
    "scrolled": true
   },
   "outputs": [
    {
     "data": {
      "text/html": [
       "1.) not  --> 4.682"
      ],
      "text/plain": [
       "<IPython.core.display.HTML object>"
      ]
     },
     "metadata": {},
     "output_type": "display_data"
    },
    {
     "data": {
      "text/html": [
       "2.) not very  --> 4.654"
      ],
      "text/plain": [
       "<IPython.core.display.HTML object>"
      ]
     },
     "metadata": {},
     "output_type": "display_data"
    },
    {
     "data": {
      "text/html": [
       "3.) not very good  --> 4.141"
      ],
      "text/plain": [
       "<IPython.core.display.HTML object>"
      ]
     },
     "metadata": {},
     "output_type": "display_data"
    },
    {
     "data": {
      "text/html": [
       "4.) not &wedge; very good  --> 3.942"
      ],
      "text/plain": [
       "<IPython.core.display.HTML object>"
      ]
     },
     "metadata": {},
     "output_type": "display_data"
    },
    {
     "data": {
      "text/html": [
       "5.) very good  --> 3.401"
      ],
      "text/plain": [
       "<IPython.core.display.HTML object>"
      ]
     },
     "metadata": {},
     "output_type": "display_data"
    },
    {
     "data": {
      "text/html": [
       "6.) good &wedge; not  --> 3.066"
      ],
      "text/plain": [
       "<IPython.core.display.HTML object>"
      ]
     },
     "metadata": {},
     "output_type": "display_data"
    },
    {
     "data": {
      "text/html": [
       "7.) good &wedge; not very  --> 2.978"
      ],
      "text/plain": [
       "<IPython.core.display.HTML object>"
      ]
     },
     "metadata": {},
     "output_type": "display_data"
    },
    {
     "data": {
      "text/html": [
       "8.) &not;very &wedge; not  --> 2.621"
      ],
      "text/plain": [
       "<IPython.core.display.HTML object>"
      ]
     },
     "metadata": {},
     "output_type": "display_data"
    },
    {
     "data": {
      "text/html": [
       "9.) good  --> 2.465"
      ],
      "text/plain": [
       "<IPython.core.display.HTML object>"
      ]
     },
     "metadata": {},
     "output_type": "display_data"
    },
    {
     "data": {
      "text/html": [
       "10.) &not;very  --> 2.108"
      ],
      "text/plain": [
       "<IPython.core.display.HTML object>"
      ]
     },
     "metadata": {},
     "output_type": "display_data"
    }
   ],
   "source": [
    "queries_most_attr = sorted(all_queries, key = lambda q: q.attribution, reverse=True)\n",
    "\n",
    "for i, q in enumerate(queries_most_attr[:10]):\n",
    "    display(HTML( f'{i+1}.) '+ q.str_rep + f'  --> {round(q.attribution,3)}'))"
   ]
  },
  {
   "cell_type": "code",
   "execution_count": 13,
   "id": "6c88df81-b346-4760-ac32-0b6342295e6a",
   "metadata": {
    "scrolled": true
   },
   "outputs": [
    {
     "data": {
      "text/html": [
       "1.) not  --> 0.875"
      ],
      "text/plain": [
       "<IPython.core.display.HTML object>"
      ]
     },
     "metadata": {},
     "output_type": "display_data"
    },
    {
     "data": {
      "text/html": [
       "2.) not &wedge; very good  --> 0.819"
      ],
      "text/plain": [
       "<IPython.core.display.HTML object>"
      ]
     },
     "metadata": {},
     "output_type": "display_data"
    },
    {
     "data": {
      "text/html": [
       "3.) good &wedge; not  --> 0.779"
      ],
      "text/plain": [
       "<IPython.core.display.HTML object>"
      ]
     },
     "metadata": {},
     "output_type": "display_data"
    },
    {
     "data": {
      "text/html": [
       "4.) good &wedge; not &wedge; &not;very  --> 0.69"
      ],
      "text/plain": [
       "<IPython.core.display.HTML object>"
      ]
     },
     "metadata": {},
     "output_type": "display_data"
    },
    {
     "data": {
      "text/html": [
       "5.) &not;very &wedge; not  --> 0.596"
      ],
      "text/plain": [
       "<IPython.core.display.HTML object>"
      ]
     },
     "metadata": {},
     "output_type": "display_data"
    },
    {
     "data": {
      "text/html": [
       "6.) not very  --> 0.591"
      ],
      "text/plain": [
       "<IPython.core.display.HTML object>"
      ]
     },
     "metadata": {},
     "output_type": "display_data"
    },
    {
     "data": {
      "text/html": [
       "7.) good &wedge; not very  --> 0.455"
      ],
      "text/plain": [
       "<IPython.core.display.HTML object>"
      ]
     },
     "metadata": {},
     "output_type": "display_data"
    },
    {
     "data": {
      "text/html": [
       "8.) very &wedge; not  --> 0.363"
      ],
      "text/plain": [
       "<IPython.core.display.HTML object>"
      ]
     },
     "metadata": {},
     "output_type": "display_data"
    },
    {
     "data": {
      "text/html": [
       "9.) good &wedge; very &wedge; not  --> 0.317"
      ],
      "text/plain": [
       "<IPython.core.display.HTML object>"
      ]
     },
     "metadata": {},
     "output_type": "display_data"
    },
    {
     "data": {
      "text/html": [
       "10.) not &wedge; &not;good  --> 0.18"
      ],
      "text/plain": [
       "<IPython.core.display.HTML object>"
      ]
     },
     "metadata": {},
     "output_type": "display_data"
    }
   ],
   "source": [
    "queries_most_expr = sorted(all_queries, key = lambda q: q.expressiveness, reverse=True)\n",
    "for i,q in enumerate(queries_most_expr[:10]):\n",
    "    display(HTML(f'{i+1}.) '+ q.str_rep + f'  --> {round(q.expressiveness,3)}'))"
   ]
  },
  {
   "cell_type": "code",
   "execution_count": null,
   "id": "98a20f58-addf-4538-9cc7-17a9c072b299",
   "metadata": {},
   "outputs": [],
   "source": []
  }
 ],
 "metadata": {
  "kernelspec": {
   "display_name": "symbxai",
   "language": "python",
   "name": "symbxai"
  },
  "language_info": {
   "codemirror_mode": {
    "name": "ipython",
    "version": 3
   },
   "file_extension": ".py",
   "mimetype": "text/x-python",
   "name": "python",
   "nbconvert_exporter": "python",
   "pygments_lexer": "ipython3",
   "version": "3.10.14"
  }
 },
 "nbformat": 4,
 "nbformat_minor": 5
}
